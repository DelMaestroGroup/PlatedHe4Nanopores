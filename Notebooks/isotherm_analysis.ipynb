{
 "cells": [
  {
   "cell_type": "code",
   "execution_count": 4,
   "metadata": {},
   "outputs": [],
   "source": [
    "import numpy as np\n",
    "import matplotlib.pyplot as plt\n",
    "from os import path\n",
    "π = np.pi\n",
    "import scipy.constants as constants\n",
    "\n",
    "#plt.style.use('notebook')\n",
    "#%config InlineBackend.figure_format = 'svg'\n",
    "#%matplotlib inline"
   ]
  },
  {
   "cell_type": "markdown",
   "metadata": {},
   "source": [
    "# Argon Adsorption inside MCM-41"
   ]
  },
  {
   "cell_type": "code",
   "execution_count": 5,
   "metadata": {},
   "outputs": [],
   "source": [
    "m_mcm = 6.133 # g\n",
    "\n",
    "# monolayer coverage\n",
    "A = 8.994 #mmol/g\n",
    "\n",
    "# pore diameter\n",
    "D = 30 #Å\n",
    "\n",
    "# thickness of Ar layer\n",
    "w = 3.5 # Å"
   ]
  },
  {
   "cell_type": "markdown",
   "metadata": {},
   "source": [
    "## Determining propertires of the argon monolayer\n",
    "\n",
    "see: https://en.wikipedia.org/wiki/Noble_gas_(data_page) for gas data"
   ]
  },
  {
   "cell_type": "code",
   "execution_count": 6,
   "metadata": {},
   "outputs": [],
   "source": [
    "# Argon mass\n",
    "m_Ar = 39.948/constants.N_A # g\n",
    "\n",
    "# Number of argon atoms\n",
    "N_Ar = A*1E-3*m_mcm*constants.N_A\n",
    "\n",
    "# volume of monolayer\n",
    "V = 915*1E20*m_mcm*w\n",
    "\n",
    "# number density of argon\n",
    "n = N_Ar/V # 1/Å^3"
   ]
  },
  {
   "cell_type": "markdown",
   "metadata": {},
   "source": [
    "## Number Density of Liquid Argon"
   ]
  },
  {
   "cell_type": "code",
   "execution_count": 7,
   "metadata": {},
   "outputs": [],
   "source": [
    "ρ_Ar_liquid = 1393.9 # g/dm^3\n",
    "\n",
    "n_Ar_liquid = ρ_Ar_liquid / m_Ar / (1E-3*1E30) # 1/Å^3"
   ]
  },
  {
   "cell_type": "code",
   "execution_count": 8,
   "metadata": {},
   "outputs": [
    {
     "data": {
      "text/plain": [
       "0.021012971876849907"
      ]
     },
     "execution_count": 8,
     "metadata": {},
     "output_type": "execute_result"
    }
   ],
   "source": [
    "n_Ar_liquid"
   ]
  },
  {
   "cell_type": "markdown",
   "metadata": {},
   "source": [
    "## Number Density of Liquid Neon"
   ]
  },
  {
   "cell_type": "code",
   "execution_count": 9,
   "metadata": {},
   "outputs": [],
   "source": [
    "m_Ne = 20.1797/constants.N_A # g\n",
    "\n",
    "ρ_Ne_liquid = 1207 # g/dm^3\n",
    "\n",
    "n_Ne_liquid = ρ_Ne_liquid / m_Ne / (1E-3*1E30) # 1/Å^3"
   ]
  },
  {
   "cell_type": "code",
   "execution_count": 10,
   "metadata": {},
   "outputs": [
    {
     "data": {
      "text/plain": [
       "0.0360199799666001"
      ]
     },
     "execution_count": 10,
     "metadata": {},
     "output_type": "execute_result"
    }
   ],
   "source": [
    "n_Ne_liquid"
   ]
  },
  {
   "cell_type": "markdown",
   "metadata": {},
   "source": [
    "## Paul's Experimental Isotherms\n",
    "\n",
    "\n",
    "### Ar/MCM-41"
   ]
  },
  {
   "cell_type": "code",
   "execution_count": 12,
   "metadata": {},
   "outputs": [],
   "source": [
    "import include.colors as colortools\n",
    "colors_v = colortools.get_linear_colors('viridis',8,reverse=False)"
   ]
  },
  {
   "cell_type": "code",
   "execution_count": 13,
   "metadata": {},
   "outputs": [],
   "source": [
    "isotherm = {}\n",
    "isotherm['Ar/MCM41'] = np.loadtxt('../Data/Sokol_Ar_MCM41_Isotherm.dat')\n",
    "isotherm['He/Ar/MCM41'] = np.loadtxt('../Data/Sokol_He_Ar_MCM41_Isotherm.dat')\n",
    "cT = 4.2"
   ]
  },
  {
   "cell_type": "code",
   "execution_count": 15,
   "metadata": {},
   "outputs": [
    {
     "data": {
      "image/png": "[encoded data removed]",
      "text/plain": [
       "<Figure size 245.081x151.469 with 1 Axes>"
      ]
     },
     "metadata": {
      "needs_background": "light"
     },
     "output_type": "display_data"
    }
   ],
   "source": [
    "plt.style.reload_library()\n",
    "with plt.style.context('./include/aps.mplstyle'):\n",
    "    figsize=plt.rcParams['figure.figsize']\n",
    "    fig,ax = plt.subplots(figsize=(figsize[0],figsize[1]),constrained_layout=True)\n",
    "\n",
    "    #ax.set_xscale(\"log\", nonposx='clip')\n",
    "\n",
    "    ax.plot(isotherm['Ar/MCM41'][:,0],isotherm['Ar/MCM41'][:,1],'o',ms=4, mec=colors_v[1],mew=0.5, \n",
    "            mfc=colortools.get_alpha_hex(colors_v[1],0.65), label='Ar/MCM-41')\n",
    "   \n",
    "    ax.plot(isotherm['He/Ar/MCM41'][:,0],isotherm['He/Ar/MCM41'][:,1],'s',ms=4, mec=colors_v[5], mew=0.5,\n",
    "            mfc=colortools.get_alpha_hex(colors_v[5],0.65), label='$^4$He/Ar/MCM-41')\n",
    "    ax.annotate('$T = 90\\; \\mathrm{{K}}$', xy=(0.7,0.75), xytext=(0.7,0.75),xycoords=ax.transAxes)\n",
    "    ax.annotate(f'$T = {cT:3.1f}\\; \\mathrm{{K}}$', xy=(0.7,0.425), xytext=(0.7,0.425),xycoords=ax.transAxes)\n",
    "\n",
    "    ax.set_xlabel(r'$P/P_0$')\n",
    "    ax.set_ylabel(r'$n$ (mmol/g)')\n",
    "    plt.legend()\n",
    "    \n",
    "    ax.set_ylim(0,24)\n",
    "    ax.set_xlim(0,1.02)\n",
    "    plt.savefig('plots/He_Ar_MCM41_isotherm.pdf')\n",
    "    plt.savefig('plots/He_Ar_MCM41_isotherm.svg',dpi=300)"
   ]
  },
  {
   "cell_type": "code",
   "execution_count": null,
   "metadata": {},
   "outputs": [],
   "source": []
  }
 ],
 "metadata": {
  "kernelspec": {
   "display_name": "Python 3",
   "language": "python",
   "name": "python3"
  },
  "language_info": {
   "codemirror_mode": {
    "name": "ipython",
    "version": 3
   },
   "file_extension": ".py",
   "mimetype": "text/x-python",
   "name": "python",
   "nbconvert_exporter": "python",
   "pygments_lexer": "ipython3",
   "version": "3.8.2"
  }
 },
 "nbformat": 4,
 "nbformat_minor": 4
}
