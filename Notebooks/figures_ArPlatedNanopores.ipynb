{
 "cells": [
  {
   "cell_type": "markdown",
   "metadata": {},
   "source": [
    "# Figure 1: Manybody potential"
   ]
  },
  {
   "cell_type": "code",
   "execution_count": null,
   "metadata": {},
   "outputs": [],
   "source": [
    "import numpy as np\n",
    "import matplotlib.pyplot as plt\n",
    "import include.colors as colortools"
   ]
  },
  {
   "cell_type": "code",
   "execution_count": null,
   "metadata": {},
   "outputs": [],
   "source": [
    "plotDir = \"./plots/\""
   ]
  },
  {
   "cell_type": "code",
   "execution_count": null,
   "metadata": {},
   "outputs": [],
   "source": [
    "Vmesh = np.loadtxt('data/Vmesh.raw')\n",
    "rmeshpoints = np.loadtxt('data/rmeshpoints.raw')\n",
    "stackedcutpoints = np.loadtxt('data/stackedcutpoints.raw')"
   ]
  },
  {
   "cell_type": "code",
   "execution_count": null,
   "metadata": {},
   "outputs": [],
   "source": [
    "x = rmeshpoints[:,0]\n",
    "y = rmeshpoints[:,1]\n",
    "z = Vmesh"
   ]
  },
  {
   "cell_type": "code",
   "execution_count": null,
   "metadata": {},
   "outputs": [],
   "source": [
    "from scipy.interpolate import griddata\n",
    "grid_x, grid_y = np.mgrid[np.min(rmeshpoints[:,0]):np.max(rmeshpoints[:,0]):1000j, np.min(rmeshpoints[:,1]):np.max(rmeshpoints[:,1]):1000j]\n",
    "grid_z0 = griddata((x,y), Vmesh, (grid_x, grid_y), method='nearest')\n",
    "grid_z1 = griddata((x,y), Vmesh, (grid_x, grid_y), method='linear')\n",
    "grid_z2 = griddata((x,y), Vmesh, (grid_x, grid_y), method='cubic')"
   ]
  },
  {
   "cell_type": "code",
   "execution_count": null,
   "metadata": {},
   "outputs": [],
   "source": [
    "extent = (np.min(x),np.max(x),np.min(y),np.max(y))\n",
    "fig,ax=plt.subplots()\n",
    "im = ax.imshow(grid_z1.T,origin='lower',extent=extent,vmax=200,vmin=-200)\n",
    "cbar = fig.colorbar(im)\n",
    "# fn = 'test'\n",
    "# fig.savefig(fn + '.svg')\n",
    "# fig.savefig(fn + '.png',dpi=400)"
   ]
  },
  {
   "cell_type": "code",
   "execution_count": null,
   "metadata": {},
   "outputs": [],
   "source": [
    "ax1,ax2,ay1,ay2 = np.load('data/mcm41UCdata.npy')"
   ]
  },
  {
   "cell_type": "code",
   "execution_count": null,
   "metadata": {},
   "outputs": [],
   "source": [
    "xArr = []\n",
    "yArr = []\n",
    "zArr = []\n",
    "for i in range(-3,3+1):\n",
    "    for j in range(-3,3+1):\n",
    "        xArr.append(x+(ax1*i + ax2*j))\n",
    "        yArr.append(y+(ay1*i + ay2*j))\n",
    "        zArr.append(z)\n",
    "xx = np.array(xArr).flatten()\n",
    "yy = np.array(yArr).flatten()\n",
    "zz = np.array(zArr).flatten()"
   ]
  },
  {
   "cell_type": "code",
   "execution_count": null,
   "metadata": {},
   "outputs": [],
   "source": [
    "from scipy.interpolate import griddata\n",
    "xmin = -60\n",
    "xmax = 60\n",
    "ymin = -60\n",
    "ymax = 60\n",
    "grid_x, grid_y = np.mgrid[xmin:xmax:10000j, ymin:ymax:10000j]\n",
    "#grid_z0 = griddata((x,y), Vmesh, (grid_x, grid_y), method='nearest')\n",
    "grid_z1 = griddata((xx,yy), zz, (grid_x, grid_y), method='linear')\n",
    "#grid_z2 = griddata((x,y), Vmesh, (grid_x, grid_y), method='cubic')"
   ]
  },
  {
   "cell_type": "code",
   "execution_count": null,
   "metadata": {},
   "outputs": [],
   "source": [
    "from matplotlib.patches import Circle\n",
    "\n",
    "extent = (xmin,xmax,ymin,ymax)\n",
    "fig,ax=plt.subplots()\n",
    "ax.set_aspect('equal')\n",
    "im = ax.imshow(grid_z1.T,origin='lower',extent=extent,vmax=200,vmin=-200,cmap=\"Spectral_r\")\n",
    "circ = Circle((.2,0),15.51,facecolor='None',edgecolor='k')\n",
    "ax.add_patch(circ)\n",
    "cbar = fig.colorbar(im)\n",
    "ax.set_xlabel(r'$x$ $\\mathrm{[\\AA]}$')\n",
    "ax.set_ylabel(r'$y$ $\\mathrm{[\\AA]}$')\n",
    "cbar.set_label(r'$V(r;R)$ $\\mathrm{[K]}$')\n",
    "fn = 'manybodyPotential'\n",
    "#fig.savefig(plotDir + fn + '.svg')\n",
    "fig.savefig(plotDir + fn + '.pdf')\n",
    "#fig.savefig(plotDir + fn + '.png',dpi=400)\n"
   ]
  },
  {
   "cell_type": "markdown",
   "metadata": {},
   "source": [
    "# Figure 2: Effective potential"
   ]
  },
  {
   "cell_type": "code",
   "execution_count": null,
   "metadata": {},
   "outputs": [],
   "source": [
    "import numpy as np\n",
    "import matplotlib.pyplot as plt\n",
    "import include.colors as colortools"
   ]
  },
  {
   "cell_type": "code",
   "execution_count": null,
   "metadata": {},
   "outputs": [],
   "source": [
    "from scipy.special import ellipk, ellipe\n",
    "\n",
    "def V(rho,sigma,n,R):\n",
    "    pf = np.pi*n*(sigma**3)/3.0\n",
    "    t9 = v9(rho/R)*((sigma/R)**9)\n",
    "    t3 = v3(rho/R)*((sigma/R)**3)\n",
    "    return pf*(t9-t3)\n",
    "\n",
    "def Vshell(rho,sigma,n,R1,R2):\n",
    "    pf = np.pi*n*(sigma**3)/3.0\n",
    "    t9 = v9(rho/R1)*((sigma/R1)**9)\n",
    "    t3 = v3(rho/R1)*((sigma/R1)**3)\n",
    "    y9 = v9(rho/R2)*((sigma/R2)**9)\n",
    "    y3 = v3(rho/R2)*((sigma/R2)**3)\n",
    "    return pf*(y3-y9+t9-t3)\n",
    "\n",
    "def v9(x):\n",
    "    pf = 1.0/(240.0*((1.0-(x**2))**9))\n",
    "    t1 = (1091.0 + (11156.0*(x**2)) + (16434.0*(x**4)) + (4052.0*(x**6)) + (35*(x**8)))*ellipe(x**2)\n",
    "    t2 = 8.0 * (1.0-(x**2)) * (1.0 + (7.0*(x**2))) * (97.0 + (134.0*(x**2)) + (25.0*(x**4))) * ellipk(x**2)\n",
    "    return pf*(t1-t2)\n",
    "\n",
    "def v3(x):\n",
    "    pf = 2.0/((1.0-(x**2))**3)\n",
    "    t1 = (7.0 + (x**2)) * ellipe(x**2)\n",
    "    t2 = 4.0 * (1.0-(x**2)) * ellipk(x**2)\n",
    "    return pf*(t1-t2)\n",
    "\n",
    "def U_LJ(r,sigma,epsilon):\n",
    "    pf = 4.0 * epsilon\n",
    "    t12 = (sigma/r)**12\n",
    "    t6 = (sigma/r)**6\n",
    "    return pf * (t12 - t6)"
   ]
  },
  {
   "cell_type": "raw",
   "metadata": {},
   "source": [
    "Plating Radial Width    :    3.76000e+00 \n",
    "Plating LJ Sigma        :    3.02250e+00 \n",
    "Plating LJ Epsilon      :    3.61361e+01 \n",
    "Plating LJ Density      :    1.70000e-02"
   ]
  },
  {
   "cell_type": "code",
   "execution_count": null,
   "metadata": {},
   "outputs": [],
   "source": [
    "R = 15.51\n",
    "R2 = R + 3.76\n",
    "ss = 3.02250\n",
    "es = 3.61361"
   ]
  },
  {
   "cell_type": "code",
   "execution_count": null,
   "metadata": {},
   "outputs": [],
   "source": [
    "# sigma and epsilon parameters for atoms in silica and helium\n",
    "# See https://doi.org/10.1016/j.apsusc.2015.01.084 and https://doi.org/10.1016/S0927-7757(01)00628-8\n",
    "sigmaarr = np.array([(3.804,3.033,2.846,2.640,3.405,2.782)],dtype=[('Si','f'),('O','f'),('H','f'),('He','f'),('Ar','f'),('Ne','f')])\n",
    "epsilonarr = np.array([(155.858,48.115,0.0503,10.9,119.8,37.29134539)],dtype=[('Si','f'),('O','f'),('H','f'),('He','f'),('Ar','f'),('Ne','f')])\n",
    "\n",
    "# functions to mix the LJ parameters\n",
    "# See https://doi.org/10.1016/S0927-7757(01)00628-8\n",
    "def mixsigma(s1,s2):\n",
    "    return (s1+s2)/2.0\n",
    "\n",
    "def mixepsilon(e1,e2):\n",
    "    return (e1*e2)**0.5"
   ]
  },
  {
   "cell_type": "code",
   "execution_count": null,
   "metadata": {},
   "outputs": [],
   "source": [
    "r = np.linspace(0,17,10000)\n",
    "V_MCM41 = V(r,3.44,1.59,R)"
   ]
  },
  {
   "cell_type": "code",
   "execution_count": null,
   "metadata": {},
   "outputs": [],
   "source": [
    "# Argon density\n",
    "SA = 915.0*1e20 #surface area \\AA^2/g\n",
    "MLC = 8.994e-3 #monolayer argon coverage mol/g\n",
    "n_2d = 6.022140857e23*MLC/SA #argon atoms per \\AA^2\n",
    "n_3d = n_2d/3.5\n",
    "n_3dArPaulWiki = n_3d\n",
    "\n",
    "\n",
    "\n",
    "\n",
    "# Neon Density\n",
    "argonMass = 39.948 #g/mole\n",
    "argonRadius = 188e-12 #m\n",
    "NA = 6.022140758e23 #atoms/mole\n",
    "L_to_m3 = 0.001 #m^3/L\n",
    "\n",
    "argonDensitySolid = 1616 #g/L\n",
    "n_3dArFromSolidDensity = (((argonDensitySolid/L_to_m3)/argonMass)*NA*((1e-10)**3)) #atoms/m^3\n",
    "\n",
    "argonDensityLiquid = 1395.4 #g/L\n",
    "n_3dArFromLiquidDensity = (((argonDensityLiquid/L_to_m3)/argonMass)*NA*((1e-10)**3)) #atoms/m^3\n",
    "\n",
    "argonDensityArr = [n_3dArFromSolidDensity,n_3dArFromLiquidDensity,n_3dArPaulWiki]\n",
    "\n",
    "print(r'{:.3f}$\\mathrm{{Å}}^{{-3}}$'.format(n_3d))"
   ]
  },
  {
   "cell_type": "code",
   "execution_count": null,
   "metadata": {},
   "outputs": [],
   "source": [
    "sArHe = mixsigma(sigmaarr['He'],sigmaarr['Ar'])\n",
    "eArHe = mixepsilon(epsilonarr['He'],epsilonarr['Ar'])\n",
    "print(sArHe)\n",
    "print(eArHe)"
   ]
  },
  {
   "cell_type": "code",
   "execution_count": null,
   "metadata": {},
   "outputs": [],
   "source": [
    "vdwrAr = 1.88"
   ]
  },
  {
   "cell_type": "code",
   "execution_count": null,
   "metadata": {},
   "outputs": [],
   "source": [
    "V_ArArr = []\n",
    "for n_3dAr in argonDensityArr:\n",
    "    V_Ar = Vshell(r,sArHe,eArHe*n_3dAr,R-(vdwrAr*2),R)\n",
    "    V_ArArr.append(V_Ar)"
   ]
  },
  {
   "cell_type": "code",
   "execution_count": null,
   "metadata": {},
   "outputs": [],
   "source": [
    "#np.savetxt('HeArMCM41.dat',np.vstack((r,V_ArArr[-1])).T)"
   ]
  },
  {
   "cell_type": "code",
   "execution_count": null,
   "metadata": {},
   "outputs": [],
   "source": [
    "effective_potential_Ar = (np.array(V_ArArr) + V_MCM41)"
   ]
  },
  {
   "cell_type": "code",
   "execution_count": null,
   "metadata": {},
   "outputs": [],
   "source": [
    "effective_potential_Ar.T"
   ]
  },
  {
   "cell_type": "code",
   "execution_count": null,
   "metadata": {},
   "outputs": [],
   "source": [
    "effective_potential_Ar2 = np.zeros((effective_potential_Ar.shape[1],4))"
   ]
  },
  {
   "cell_type": "code",
   "execution_count": null,
   "metadata": {},
   "outputs": [],
   "source": [
    "effective_potential_Ar2[:,0] = r\n",
    "effective_potential_Ar2[:,1:] = effective_potential_Ar.T"
   ]
  },
  {
   "cell_type": "code",
   "execution_count": null,
   "metadata": {},
   "outputs": [],
   "source": [
    "effective_potential_Ar2[:,0]"
   ]
  },
  {
   "cell_type": "code",
   "execution_count": null,
   "metadata": {},
   "outputs": [],
   "source": [
    "np.save(\"data/effective_potential_Ar\",effective_potential_Ar2)"
   ]
  },
  {
   "cell_type": "code",
   "execution_count": null,
   "metadata": {},
   "outputs": [],
   "source": [
    "np.save(\"data/argon_density\",np.array(argonDensityArr))"
   ]
  },
  {
   "cell_type": "markdown",
   "metadata": {},
   "source": [
    "## Load and make plot"
   ]
  },
  {
   "cell_type": "code",
   "execution_count": null,
   "metadata": {},
   "outputs": [],
   "source": [
    "import numpy as np\n",
    "import matplotlib.pyplot as plt\n",
    "import include.colors as colortools"
   ]
  },
  {
   "cell_type": "code",
   "execution_count": null,
   "metadata": {},
   "outputs": [],
   "source": [
    "R = 15.51\n",
    "effective_potential_Ar = np.load(\"data/effective_potential_Ar.npy\")\n",
    "argonDensityArr = np.load(\"data/argon_density.npy\")"
   ]
  },
  {
   "cell_type": "code",
   "execution_count": null,
   "metadata": {},
   "outputs": [],
   "source": [
    "fig,ax = plt.subplots()\n",
    "ax.set_ylim((-100,10))\n",
    "ax.set_xlim((1,10.5))\n",
    "ax.set_xlabel(r'$r$ $\\mathrm{[\\AA]}$')\n",
    "ax.set_ylabel(r'$U(r)$ $\\mathrm{[K]}$')\n",
    "ax.set_title(r'$R_\\mathrm{{pore}}={}\\ \\mathrm{{\\AA}}$'.format(R),pad=-20,fontsize=15)\n",
    "\n",
    "#cBlue = colortools.get_linear_colors('Blues_r',len(V_NeArr)+5,reverse=False)\n",
    "cRed = colortools.get_linear_colors('Reds_r',effective_potential_Ar.shape[1]+4,reverse=False)\n",
    "\n",
    "#ax.plot(r,V_MCM41,linestyle=':',color='k')\n",
    "#ax.plot([0], marker='None', linestyle='None', label=r'$n_\\mathrm{Ne}\\ \\mathrm{[\\AA^{-3}]}$')\n",
    "ax.text(0.07,0.35,r'$n_\\mathrm{Ar}\\ \\mathrm{[\\AA^{-3}]}$',transform=ax.transAxes,fontsize=13)\n",
    "\n",
    "r = effective_potential_Ar[:,0]\n",
    "for j in range(effective_potential_Ar.shape[1] - 1):\n",
    "    V_eff = effective_potential_Ar[:,j+1]\n",
    "    ax.plot(r,V_eff,label='${:2.3f}$'.format(argonDensityArr[j]),color=cRed[j])\n",
    "l = ax.legend(frameon=False,ncol=1,fontsize=13)\n",
    "#fig.savefig('plots/EP_Ar.svg',bbox_inches='tight')\n",
    "#fig.savefig('plots/EP_Ar.png',bbox_inches='tight',dpi=400)\n",
    "fig.savefig('plots/effectivePotential.pdf',bbox_inches='tight')"
   ]
  },
  {
   "cell_type": "code",
   "execution_count": null,
   "metadata": {},
   "outputs": [],
   "source": []
  },
  {
   "cell_type": "code",
   "execution_count": null,
   "metadata": {},
   "outputs": [],
   "source": [
    "min_potential = []\n",
    "min_potential_location = []\n",
    "min_potential_density = []\n",
    "\n",
    "for j in range(effective_potential_Ar.shape[1] - 1):\n",
    "    idx_min_potential = np.argmin(effective_potential_Ar[r < 10,j+1])\n",
    "    min_potential.append(effective_potential_Ar[idx_min_potential,j+1])\n",
    "    min_potential_location.append(r[idx_min_potential])\n",
    "    min_potential_density.append(argonDensityArr[j])"
   ]
  },
  {
   "cell_type": "code",
   "execution_count": null,
   "metadata": {},
   "outputs": [],
   "source": [
    "# Do many densities here and put a line through them, hilight three points from other plot\n",
    "fig,ax = plt.subplots()\n",
    "ax2 = ax.twinx()\n",
    "ax.plot(min_potential_density,min_potential_location)\n",
    "ax2.plot(min_potential_density,min_potential)\n",
    "ax.set_xlabel(r'$n_\\mathrm{Ar}\\ \\mathrm{[\\AA^{-3}]}$')\n",
    "ax.set_ylabel(r'$r$ $\\mathrm{[\\AA]}$')\n",
    "ax2.set_ylabel(r'$U(r)$ $\\mathrm{[K]}$')"
   ]
  },
  {
   "cell_type": "code",
   "execution_count": null,
   "metadata": {},
   "outputs": [],
   "source": [
    "min_potential"
   ]
  },
  {
   "cell_type": "code",
   "execution_count": null,
   "metadata": {},
   "outputs": [],
   "source": []
  }
 ],
 "metadata": {
  "kernelspec": {
   "display_name": "Python 3",
   "language": "python",
   "name": "python3"
  },
  "language_info": {
   "codemirror_mode": {
    "name": "ipython",
    "version": 3
   },
   "file_extension": ".py",
   "mimetype": "text/x-python",
   "name": "python",
   "nbconvert_exporter": "python",
   "pygments_lexer": "ipython3",
   "version": "3.6.8"
  }
 },
 "nbformat": 4,
 "nbformat_minor": 2
}
