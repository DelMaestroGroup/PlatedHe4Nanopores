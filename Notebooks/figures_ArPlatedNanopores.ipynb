{
 "cells": [
  {
   "cell_type": "markdown",
   "metadata": {},
   "source": [
    "# Figure 1: Manybody potential"
   ]
  },
  {
   "cell_type": "code",
   "execution_count": null,
   "metadata": {},
   "outputs": [],
   "source": [
    "import numpy as np\n",
    "import matplotlib.pyplot as plt\n",
    "import include.colors as colortools\n",
    "from matplotlib.patches import Circle\n",
    "import matplotlib as mpl\n",
    "import matplotlib.colors as mplcolors"
   ]
  },
  {
   "cell_type": "markdown",
   "metadata": {},
   "source": [
    "## Setup colors for plots"
   ]
  },
  {
   "cell_type": "code",
   "execution_count": null,
   "metadata": {},
   "outputs": [],
   "source": [
    "plot_colors = colortools.get_linear_colors('viridis',10)\n"
   ]
  },
  {
   "cell_type": "code",
   "execution_count": null,
   "metadata": {},
   "outputs": [],
   "source": [
    "fig, ax = plt.subplots()\n",
    "for i,c in enumerate(plot_colors):\n",
    "    ax.scatter(i,i,c=c)"
   ]
  },
  {
   "cell_type": "code",
   "execution_count": null,
   "metadata": {},
   "outputs": [],
   "source": [
    "dark_purple = plot_colors[0]\n",
    "purple = plot_colors[1]\n",
    "dark_blue = plot_colors[2]\n",
    "blue = plot_colors[3]\n",
    "teal = plot_colors[4]\n",
    "aquamarine = plot_colors[5]\n",
    "green = plot_colors[6]\n",
    "light_green = plot_colors[7]\n",
    "dead_grass = plot_colors[8]\n",
    "yellow = plot_colors[9]"
   ]
  },
  {
   "cell_type": "code",
   "execution_count": null,
   "metadata": {},
   "outputs": [],
   "source": [
    "plotDir = \"./plots/\""
   ]
  },
  {
   "cell_type": "code",
   "execution_count": null,
   "metadata": {},
   "outputs": [],
   "source": [
    "Vmesh = np.loadtxt('data/Vmesh.raw')\n",
    "rmeshpoints = np.loadtxt('data/rmeshpoints.raw')\n",
    "stackedcutpoints = np.loadtxt('data/stackedcutpoints.raw')"
   ]
  },
  {
   "cell_type": "code",
   "execution_count": null,
   "metadata": {},
   "outputs": [],
   "source": [
    "x = rmeshpoints[:,0]\n",
    "y = rmeshpoints[:,1]\n",
    "z = Vmesh"
   ]
  },
  {
   "cell_type": "code",
   "execution_count": null,
   "metadata": {},
   "outputs": [],
   "source": [
    "from scipy.interpolate import griddata\n",
    "grid_x, grid_y = np.mgrid[np.min(rmeshpoints[:,0]):np.max(rmeshpoints[:,0]):1000j, np.min(rmeshpoints[:,1]):np.max(rmeshpoints[:,1]):1000j]\n",
    "grid_z0 = griddata((x,y), Vmesh, (grid_x, grid_y), method='nearest')\n",
    "grid_z1 = griddata((x,y), Vmesh, (grid_x, grid_y), method='linear')\n",
    "grid_z2 = griddata((x,y), Vmesh, (grid_x, grid_y), method='cubic')"
   ]
  },
  {
   "cell_type": "code",
   "execution_count": null,
   "metadata": {},
   "outputs": [],
   "source": [
    "extent = (np.min(x),np.max(x),np.min(y),np.max(y))\n",
    "fig,ax=plt.subplots()\n",
    "im = ax.imshow(grid_z1.T,origin='lower',extent=extent,vmax=200,vmin=-200)\n",
    "cbar = fig.colorbar(im)\n",
    "# fn = 'test'\n",
    "# fig.savefig(fn + '.svg')\n",
    "# fig.savefig(fn + '.png',dpi=400)"
   ]
  },
  {
   "cell_type": "code",
   "execution_count": null,
   "metadata": {},
   "outputs": [],
   "source": [
    "ax1,ax2,ay1,ay2 = np.load('data/mcm41UCdata.npy')"
   ]
  },
  {
   "cell_type": "code",
   "execution_count": null,
   "metadata": {},
   "outputs": [],
   "source": [
    "xArr = []\n",
    "yArr = []\n",
    "zArr = []\n",
    "for i in range(-3,3+1):\n",
    "    for j in range(-3,3+1):\n",
    "        xArr.append(x+(ax1*i + ax2*j))\n",
    "        yArr.append(y+(ay1*i + ay2*j))\n",
    "        zArr.append(z)\n",
    "xx = np.array(xArr).flatten()\n",
    "yy = np.array(yArr).flatten()\n",
    "zz = np.array(zArr).flatten()"
   ]
  },
  {
   "cell_type": "code",
   "execution_count": null,
   "metadata": {},
   "outputs": [],
   "source": [
    "from scipy.interpolate import griddata\n",
    "xmin = -60\n",
    "xmax = 60\n",
    "ymin = -60\n",
    "ymax = 60\n",
    "grid_x, grid_y = np.mgrid[xmin:xmax:10000j, ymin:ymax:10000j]\n",
    "#grid_z0 = griddata((x,y), Vmesh, (grid_x, grid_y), method='nearest')\n",
    "grid_z1 = griddata((xx,yy), zz, (grid_x, grid_y), method='linear')\n",
    "#grid_z2 = griddata((x,y), Vmesh, (grid_x, grid_y), method='cubic')"
   ]
  },
  {
   "cell_type": "markdown",
   "metadata": {},
   "source": [
    "<a id='section2'></a>"
   ]
  },
  {
   "cell_type": "code",
   "execution_count": null,
   "metadata": {},
   "outputs": [],
   "source": [
    "plt.style.reload_library()\n",
    "with plt.style.context('./include/aps.mplstyle'):\n",
    "    extent = (xmin,xmax,ymin,ymax)\n",
    "    fig,ax=plt.subplots()\n",
    "    ax.set_aspect('equal')\n",
    "    im = ax.imshow(grid_z1.T,origin='lower',extent=extent,vmax=200,vmin=-200,cmap=\"viridis\")\n",
    "    circ = Circle((.2,0),15.51,facecolor='None',edgecolor='k')\n",
    "    ax.add_patch(circ)\n",
    "    cbar = fig.colorbar(im)\n",
    "    ax.set_xlabel(r'$x$ $\\mathrm{[\\AA]}$')\n",
    "    ax.set_ylabel(r'$y$ $\\mathrm{[\\AA]}$')\n",
    "    cbar.set_label(r'$V(r,R)$ $\\mathrm{[K]}$')\n",
    "    fn = 'manybodyPotential'\n",
    "    #fig.savefig(plotDir + fn + '.svg')\n",
    "    fig.savefig(plotDir + fn + '.pdf')\n",
    "    #fig.savefig(plotDir + fn + '.png',dpi=400)\n"
   ]
  },
  {
   "cell_type": "code",
   "execution_count": null,
   "metadata": {},
   "outputs": [],
   "source": [
    "from IPython.display import Markdown"
   ]
  },
  {
   "cell_type": "code",
   "execution_count": null,
   "metadata": {},
   "outputs": [],
   "source": [
    "echo = f\"\"\"\n",
    "[test]({plotDir}{fn}.pdf)\n",
    "\"\"\"\n",
    "\n",
    "Markdown(echo)"
   ]
  },
  {
   "cell_type": "markdown",
   "metadata": {},
   "source": [
    "{{plotDir + fn + '.pdf'}}"
   ]
  },
  {
   "cell_type": "markdown",
   "metadata": {},
   "source": [
    "[test](https://google.com)"
   ]
  },
  {
   "cell_type": "code",
   "execution_count": null,
   "metadata": {},
   "outputs": [],
   "source": [
    "fm.findfont(\"serif\", rebuild_if_missing=False)"
   ]
  },
  {
   "cell_type": "code",
   "execution_count": null,
   "metadata": {},
   "outputs": [],
   "source": [
    "fm.findfont(\"serif\", rebuild_if_missing=False)"
   ]
  },
  {
   "cell_type": "markdown",
   "metadata": {},
   "source": [
    "# Figure 2: Effective potential"
   ]
  },
  {
   "cell_type": "code",
   "execution_count": null,
   "metadata": {},
   "outputs": [],
   "source": [
    "import numpy as np\n",
    "import matplotlib.pyplot as plt\n",
    "import include.colors as colortools"
   ]
  },
  {
   "cell_type": "code",
   "execution_count": null,
   "metadata": {},
   "outputs": [],
   "source": [
    "from scipy.special import ellipk, ellipe\n",
    "\n",
    "def V(rho,sigma,n,R):\n",
    "    pf = np.pi*n*(sigma**3)/3.0\n",
    "    t9 = v9(rho/R)*((sigma/R)**9)\n",
    "    t3 = v3(rho/R)*((sigma/R)**3)\n",
    "    return pf*(t9-t3)\n",
    "\n",
    "def Vshell(rho,sigma,n,R1,R2):\n",
    "    pf = np.pi*n*(sigma**3)/3.0\n",
    "    t9 = v9(rho/R1)*((sigma/R1)**9)\n",
    "    t3 = v3(rho/R1)*((sigma/R1)**3)\n",
    "    y9 = v9(rho/R2)*((sigma/R2)**9)\n",
    "    y3 = v3(rho/R2)*((sigma/R2)**3)\n",
    "    return pf*(y3-y9+t9-t3)\n",
    "\n",
    "def v9(x):\n",
    "    pf = 1.0/(240.0*((1.0-(x**2))**9))\n",
    "    t1 = (1091.0 + (11156.0*(x**2)) + (16434.0*(x**4)) + (4052.0*(x**6)) + (35*(x**8)))*ellipe(x**2)\n",
    "    t2 = 8.0 * (1.0-(x**2)) * (1.0 + (7.0*(x**2))) * (97.0 + (134.0*(x**2)) + (25.0*(x**4))) * ellipk(x**2)\n",
    "    return pf*(t1-t2)\n",
    "\n",
    "def v3(x):\n",
    "    pf = 2.0/((1.0-(x**2))**3)\n",
    "    t1 = (7.0 + (x**2)) * ellipe(x**2)\n",
    "    t2 = 4.0 * (1.0-(x**2)) * ellipk(x**2)\n",
    "    return pf*(t1-t2)\n",
    "\n",
    "def U_LJ(r,sigma,epsilon):\n",
    "    pf = 4.0 * epsilon\n",
    "    t12 = (sigma/r)**12\n",
    "    t6 = (sigma/r)**6\n",
    "    return pf * (t12 - t6)"
   ]
  },
  {
   "cell_type": "raw",
   "metadata": {},
   "source": [
    "Plating Radial Width    :    3.76000e+00 \n",
    "Plating LJ Sigma        :    3.02250e+00 \n",
    "Plating LJ Epsilon      :    3.61361e+01 \n",
    "Plating LJ Density      :    1.70000e-02"
   ]
  },
  {
   "cell_type": "code",
   "execution_count": null,
   "metadata": {},
   "outputs": [],
   "source": [
    "R = 15.51\n",
    "R2 = R + 3.76\n",
    "ss = 3.02250\n",
    "es = 3.61361"
   ]
  },
  {
   "cell_type": "code",
   "execution_count": null,
   "metadata": {},
   "outputs": [],
   "source": [
    "# sigma and epsilon parameters for atoms in silica and helium\n",
    "# See https://doi.org/10.1016/j.apsusc.2015.01.084 and https://doi.org/10.1016/S0927-7757(01)00628-8\n",
    "sigmaarr = np.array([(3.804,3.033,2.846,2.640,3.405,2.782)],dtype=[('Si','f'),('O','f'),('H','f'),('He','f'),('Ar','f'),('Ne','f')])\n",
    "epsilonarr = np.array([(155.858,48.115,0.0503,10.9,119.8,37.29134539)],dtype=[('Si','f'),('O','f'),('H','f'),('He','f'),('Ar','f'),('Ne','f')])\n",
    "\n",
    "# functions to mix the LJ parameters\n",
    "# See https://doi.org/10.1016/S0927-7757(01)00628-8\n",
    "def mixsigma(s1,s2):\n",
    "    return (s1+s2)/2.0\n",
    "\n",
    "def mixepsilon(e1,e2):\n",
    "    return (e1*e2)**0.5"
   ]
  },
  {
   "cell_type": "code",
   "execution_count": null,
   "metadata": {},
   "outputs": [],
   "source": [
    "r = np.linspace(0,17,10000)\n",
    "V_MCM41 = V(r,3.44,1.59,R)"
   ]
  },
  {
   "cell_type": "code",
   "execution_count": null,
   "metadata": {},
   "outputs": [],
   "source": [
    "# Argon density\n",
    "SA = 915.0*1e20 #surface area \\AA^2/g\n",
    "MLC = 8.994e-3 #monolayer argon coverage mol/g\n",
    "n_2d = 6.022140857e23*MLC/SA #argon atoms per \\AA^2\n",
    "n_3d = n_2d/3.5\n",
    "n_3dArPaulWiki = n_3d\n",
    "\n",
    "\n",
    "\n",
    "\n",
    "# Neon Density\n",
    "argonMass = 39.948 #g/mole\n",
    "argonRadius = 188e-12 #m\n",
    "NA = 6.022140758e23 #atoms/mole\n",
    "L_to_m3 = 0.001 #m^3/L\n",
    "\n",
    "argonDensitySolid = 1616 #g/L\n",
    "n_3dArFromSolidDensity = (((argonDensitySolid/L_to_m3)/argonMass)*NA*((1e-10)**3)) #atoms/m^3\n",
    "\n",
    "argonDensityLiquid = 1395.4 #g/L\n",
    "n_3dArFromLiquidDensity = (((argonDensityLiquid/L_to_m3)/argonMass)*NA*((1e-10)**3)) #atoms/m^3\n",
    "\n",
    "argonDensityArr = [n_3dArFromSolidDensity,n_3dArFromLiquidDensity,n_3dArPaulWiki]\n",
    "\n",
    "print(r'{:.3f}$\\mathrm{{Å}}^{{-3}}$'.format(n_3d))"
   ]
  },
  {
   "cell_type": "code",
   "execution_count": null,
   "metadata": {},
   "outputs": [],
   "source": [
    "sArHe = mixsigma(sigmaarr['He'],sigmaarr['Ar'])\n",
    "eArHe = mixepsilon(epsilonarr['He'],epsilonarr['Ar'])\n",
    "print(sArHe)\n",
    "print(eArHe)"
   ]
  },
  {
   "cell_type": "code",
   "execution_count": null,
   "metadata": {},
   "outputs": [],
   "source": [
    "vdwrAr = 1.88"
   ]
  },
  {
   "cell_type": "code",
   "execution_count": null,
   "metadata": {},
   "outputs": [],
   "source": [
    "1.88*2"
   ]
  },
  {
   "cell_type": "code",
   "execution_count": null,
   "metadata": {},
   "outputs": [],
   "source": [
    "V_ArArr = []\n",
    "for n_3dAr in argonDensityArr:\n",
    "    V_Ar = Vshell(r,sArHe,eArHe*n_3dAr,R-(vdwrAr*2),R)\n",
    "    V_ArArr.append(V_Ar)"
   ]
  },
  {
   "cell_type": "code",
   "execution_count": null,
   "metadata": {},
   "outputs": [],
   "source": [
    "#np.savetxt('HeArMCM41.dat',np.vstack((r,V_ArArr[-1])).T)"
   ]
  },
  {
   "cell_type": "code",
   "execution_count": null,
   "metadata": {},
   "outputs": [],
   "source": [
    "effective_potential_Ar = (np.array(V_ArArr) + V_MCM41)"
   ]
  },
  {
   "cell_type": "code",
   "execution_count": null,
   "metadata": {},
   "outputs": [],
   "source": [
    "effective_potential_Ar.T"
   ]
  },
  {
   "cell_type": "code",
   "execution_count": null,
   "metadata": {},
   "outputs": [],
   "source": [
    "eArHe[0]"
   ]
  },
  {
   "cell_type": "code",
   "execution_count": null,
   "metadata": {},
   "outputs": [],
   "source": [
    "effective_potential_Ar2 = np.zeros((effective_potential_Ar.shape[1],4))"
   ]
  },
  {
   "cell_type": "code",
   "execution_count": null,
   "metadata": {},
   "outputs": [],
   "source": [
    "effective_potential_Ar2[:,0] = r\n",
    "effective_potential_Ar2[:,1:] = effective_potential_Ar.T"
   ]
  },
  {
   "cell_type": "code",
   "execution_count": null,
   "metadata": {},
   "outputs": [],
   "source": [
    "effective_potential_Ar2[:,0]"
   ]
  },
  {
   "cell_type": "code",
   "execution_count": null,
   "metadata": {},
   "outputs": [],
   "source": [
    "np.save(\"data/effective_potential_Ar\",effective_potential_Ar2)"
   ]
  },
  {
   "cell_type": "code",
   "execution_count": null,
   "metadata": {},
   "outputs": [],
   "source": [
    "np.save(\"data/argon_density\",np.array(argonDensityArr))"
   ]
  },
  {
   "cell_type": "markdown",
   "metadata": {},
   "source": [
    "#### Minimum of potentials"
   ]
  },
  {
   "cell_type": "code",
   "execution_count": null,
   "metadata": {},
   "outputs": [],
   "source": [
    "def minimize_me_V(r,shell_density,R=15.51,shell_thickness=3.76,shell_sigma=3.0225,shell_epsilon=36.13613,medium_sigma=3.44,medium_n=1.59):\n",
    "    V_medium = V(r,medium_sigma,medium_n,R)\n",
    "    V_shell = Vshell(r,shell_sigma,shell_epsilon*shell_density,R-shell_thickness,R)\n",
    "    return V_medium + V_shell"
   ]
  },
  {
   "cell_type": "code",
   "execution_count": null,
   "metadata": {},
   "outputs": [],
   "source": [
    "from scipy.optimize import minimize"
   ]
  },
  {
   "cell_type": "code",
   "execution_count": null,
   "metadata": {},
   "outputs": [],
   "source": [
    "shell_density = n_3dArFromLiquidDensity\n",
    "R=15.51\n",
    "shell_thickness=3.76\n",
    "shell_sigma=3.0225\n",
    "shell_epsilon=36.13613\n",
    "sigma_medium=3.44\n",
    "n_medium=1.59"
   ]
  },
  {
   "cell_type": "code",
   "execution_count": null,
   "metadata": {},
   "outputs": [],
   "source": [
    "result = minimize(minimize_me_V,9.195,args=(shell_density,R,shell_thickness,shell_sigma,shell_epsilon,sigma_medium,n_medium))"
   ]
  },
  {
   "cell_type": "code",
   "execution_count": null,
   "metadata": {},
   "outputs": [],
   "source": [
    "def find_minimum_r_and_V(density_array,x0=9.195,R=15.51,shell_thickness=3.76,shell_sigma=3.0225,shell_epsilon=36.13613,medium_sigma=3.44,medium_n=1.59):\n",
    "    V_minimums = np.zeros_like(density_array)\n",
    "    r_minimums = np.zeros_like(density_array)\n",
    "    for i,p in enumerate(density_array):\n",
    "        result = minimize(minimize_me_V,x0,args=(p,R,shell_thickness,shell_sigma,shell_epsilon,medium_sigma,medium_n))\n",
    "        V_minimums[i] = result.fun\n",
    "        r_minimums[i] = result.x[0]\n",
    "    return r_minimums, V_minimums"
   ]
  },
  {
   "cell_type": "code",
   "execution_count": null,
   "metadata": {},
   "outputs": [],
   "source": [
    "argonDensityr_mins,argonDensityV_mins=find_minimum_r_and_V(argonDensityArr)"
   ]
  },
  {
   "cell_type": "code",
   "execution_count": null,
   "metadata": {},
   "outputs": [],
   "source": [
    "argonDensityV_mins"
   ]
  },
  {
   "cell_type": "code",
   "execution_count": null,
   "metadata": {},
   "outputs": [],
   "source": [
    "argonDensityr_mins"
   ]
  },
  {
   "cell_type": "code",
   "execution_count": null,
   "metadata": {},
   "outputs": [],
   "source": [
    "argonDensityArr"
   ]
  },
  {
   "cell_type": "code",
   "execution_count": null,
   "metadata": {},
   "outputs": [],
   "source": [
    "different_densities = np.linspace(0.01,0.03,101)"
   ]
  },
  {
   "cell_type": "code",
   "execution_count": null,
   "metadata": {},
   "outputs": [],
   "source": [
    "r_mins,V_mins=find_minimum_r_and_V(different_densities)"
   ]
  },
  {
   "cell_type": "code",
   "execution_count": null,
   "metadata": {},
   "outputs": [],
   "source": [
    "plt.style.reload_library()\n",
    "with plt.style.context('./include/aps.mplstyle'):\n",
    "    # Do many densities here and put a line through them, hilight three points from other plot\n",
    "    fig,ax = plt.subplots()\n",
    "    ax2 = ax.twinx()\n",
    "    ax.plot(different_densities,r_mins, color=plot_colors[3], lw=2)\n",
    "    ax2.plot(different_densities,V_mins, color=plot_colors[-3], lw=2)\n",
    "    ax.set_xlabel(r'$n_\\mathrm{Ar}\\ \\mathrm{[\\AA^{-3}]}$')\n",
    "    ax.set_ylabel(r'$r$ $\\mathrm{[\\AA]}$')\n",
    "    ax2.set_ylabel(r'$U(r)$ $\\mathrm{[K]}$')\n",
    "    ax.annotate(\"\", xy=(0.010,9.2), xytext=(0.018, 9.2), arrowprops=dict(arrowstyle=\"->\",color=plot_colors[3]))\n",
    "    ax2.annotate(\"\", xy=(0.030,-80), xytext=(0.021, -80), arrowprops=dict(arrowstyle=\"->\",color=plot_colors[-3]))\n"
   ]
  },
  {
   "cell_type": "code",
   "execution_count": null,
   "metadata": {},
   "outputs": [],
   "source": [
    "np.savez(\"data/mins_for_inset_density_r_V\",min_potential_density=different_densities,min_potential_location=r_mins,min_potential=V_mins)"
   ]
  },
  {
   "cell_type": "code",
   "execution_count": null,
   "metadata": {},
   "outputs": [],
   "source": [
    "np.savez(\"data/Ar_mins_for_inset_density_r_V\",min_potential_density=argonDensityArr,min_potential_location=argonDensityr_mins,min_potential=argonDensityV_mins)"
   ]
  },
  {
   "cell_type": "markdown",
   "metadata": {},
   "source": [
    "## Load and make plot"
   ]
  },
  {
   "cell_type": "code",
   "execution_count": null,
   "metadata": {},
   "outputs": [],
   "source": [
    "import numpy as np\n",
    "import matplotlib.pyplot as plt\n",
    "import include.colors as colortools"
   ]
  },
  {
   "cell_type": "code",
   "execution_count": null,
   "metadata": {},
   "outputs": [],
   "source": [
    "R = 15.51\n",
    "effective_potential_Ar = np.load(\"data/effective_potential_Ar.npy\")\n",
    "argonDensityArr = np.load(\"data/argon_density.npy\")"
   ]
  },
  {
   "cell_type": "code",
   "execution_count": null,
   "metadata": {},
   "outputs": [],
   "source": [
    "plt.style.reload_library()\n",
    "with plt.style.context('./include/aps.mplstyle'):\n",
    "\n",
    "    fig,ax = plt.subplots()\n",
    "    ax.set_ylim((-100,10))\n",
    "    ax.set_xlim((1,10.5))\n",
    "    ax.set_xlabel(r'$r$ $\\mathrm{[\\AA]}$')\n",
    "    ax.set_ylabel(r'$U(r)$ $\\mathrm{[K]}$')\n",
    "    #ax.set_title(r'$R_\\mathrm{{pore}}={}\\ \\mathrm{{\\AA}}$'.format(R),pad=-20,fontsize=15)\n",
    "\n",
    "    #cBlue = colortools.get_linear_colors('Blues_r',len(V_NeArr)+5,reverse=False)\n",
    "    #cRed = colortools.get_linear_colors('Reds_r',effective_potential_Ar.shape[1]+4,reverse=False)\n",
    "\n",
    "    #ax.plot(r,V_MCM41,linestyle=':',color='k')\n",
    "    #ax.plot([0], marker='None', linestyle='None', label=r'$n_\\mathrm{Ne}\\ \\mathrm{[\\AA^{-3}]}$')\n",
    "    ax.text(0.07,0.35,r'$n_\\mathrm{Ar}\\ \\mathrm{[\\AA^{-3}]}$',transform=ax.transAxes,fontsize=13)\n",
    "\n",
    "    r = effective_potential_Ar[:,0]\n",
    "    for j in range(effective_potential_Ar.shape[1] - 1):\n",
    "        V_eff = effective_potential_Ar[:,j+1]\n",
    "        ax.plot(r,V_eff,label='${:2.3f}$'.format(argonDensityArr[j]),color=plot_colors[3*j+1], lw=2)\n",
    "    l = ax.legend(frameon=False,ncol=1,fontsize=13)\n",
    "    #fig.savefig('plots/EP_Ar.svg',bbox_inches='tight')\n",
    "    #fig.savefig('plots/EP_Ar.png',bbox_inches='tight',dpi=400)\n",
    "    #fig.savefig('plots/effectivePotential.pdf',bbox_inches='tight')\n"
   ]
  },
  {
   "cell_type": "markdown",
   "metadata": {},
   "source": [
    "### Notes on this plot\n",
    "- move legend to upper right corner\n",
    "- move lower plot as inset\n",
    "- use stylefile"
   ]
  },
  {
   "cell_type": "code",
   "execution_count": null,
   "metadata": {},
   "outputs": [],
   "source": [
    "min_potential = []\n",
    "min_potential_location = []\n",
    "min_potential_density = []\n",
    "\n",
    "for j in range(effective_potential_Ar.shape[1] - 1):\n",
    "    idx_min_potential = np.argmin(effective_potential_Ar[r < 10,j+1])\n",
    "    min_potential.append(effective_potential_Ar[idx_min_potential,j+1])\n",
    "    min_potential_location.append(r[idx_min_potential])\n",
    "    min_potential_density.append(argonDensityArr[j])"
   ]
  },
  {
   "cell_type": "code",
   "execution_count": null,
   "metadata": {},
   "outputs": [],
   "source": [
    "mins_for_inset_density_r_V = np.load(\"data/mins_for_inset_density_r_V.npz\")\n",
    "Ar_mins_for_inset_density_r_V = np.load(\"data/Ar_mins_for_inset_density_r_V.npz\")"
   ]
  },
  {
   "cell_type": "code",
   "execution_count": null,
   "metadata": {},
   "outputs": [],
   "source": [
    "different_densities=mins_for_inset_density_r_V[\"min_potential_density\"]\n",
    "r_mins=mins_for_inset_density_r_V[\"min_potential_location\"]\n",
    "V_mins=mins_for_inset_density_r_V[\"min_potential\"]"
   ]
  },
  {
   "cell_type": "code",
   "execution_count": null,
   "metadata": {},
   "outputs": [],
   "source": [
    "argonDensityArr=Ar_mins_for_inset_density_r_V[\"min_potential_density\"]\n",
    "argonDensityr_mins=Ar_mins_for_inset_density_r_V[\"min_potential_location\"]\n",
    "argonDensityV_mins=Ar_mins_for_inset_density_r_V[\"min_potential\"]"
   ]
  },
  {
   "cell_type": "code",
   "execution_count": null,
   "metadata": {},
   "outputs": [],
   "source": [
    "plt.style.reload_library()\n",
    "with plt.style.context('./include/aps.mplstyle'):\n",
    "    # Do many densities here and put a line through them, hilight three points from other plot\n",
    "    fig,ax = plt.subplots()\n",
    "    ax2 = ax.twinx()\n",
    "    ax.plot(different_densities,r_mins, color=plot_colors[3], lw=2)\n",
    "    ax2.plot(different_densities,V_mins, color=plot_colors[-3], lw=2)\n",
    "    ax.set_xlabel(r'$n_\\mathrm{Ar}\\ \\mathrm{[\\AA^{-3}]}$')\n",
    "    ax.set_ylabel(r'$r$ $\\mathrm{[\\AA]}$')\n",
    "    ax2.set_ylabel(r'$U(r)$ $\\mathrm{[K]}$')\n",
    "    ax.annotate(\"\", xy=(0.010,9.2), xytext=(0.018, 9.2), arrowprops=dict(arrowstyle=\"->\",color=plot_colors[3]))\n",
    "    ax2.annotate(\"\", xy=(0.030,-80), xytext=(0.021, -80), arrowprops=dict(arrowstyle=\"->\",color=plot_colors[-3]))\n",
    "    ax.scatter(argonDensityArr,argonDensityr_mins,color=plot_colors[3])\n",
    "    ax2.scatter(argonDensityArr,argonDensityV_mins,color=plot_colors[-3])\n",
    "    ax.annotate(r\"$b$\", xy=( 0.90,0.85), xytext=(0.90,0.9),xycoords=ax.transAxes, \n",
    "        textcoords='offset points', ha='center', va='bottom',\n",
    "        bbox=dict(boxstyle='round,pad=0.2', fc='C7', ec='C7', alpha=0.15)\n",
    "        )\n",
    "    fig.savefig('plots/effectivePotential_b.pdf',bbox_inches='tight')\n"
   ]
  },
  {
   "cell_type": "code",
   "execution_count": null,
   "metadata": {},
   "outputs": [],
   "source": [
    "argonDensityArr"
   ]
  },
  {
   "cell_type": "code",
   "execution_count": null,
   "metadata": {},
   "outputs": [],
   "source": [
    "argonDensityV_mins"
   ]
  },
  {
   "cell_type": "code",
   "execution_count": null,
   "metadata": {},
   "outputs": [],
   "source": [
    "plt.style.reload_library()\n",
    "with plt.style.context('./include/aps.mplstyle'):\n",
    "\n",
    "    fig,ax = plt.subplots()\n",
    "    ax.set_ylim((-100,10))\n",
    "    ax.set_xlim((1,10.5))\n",
    "    ax.set_xlabel(r'$r$ $\\mathrm{[\\AA]}$')\n",
    "    ax.set_ylabel(r'$U(r)$ $\\mathrm{[K]}$')\n",
    "    #ax.set_title(r'$R_\\mathrm{{pore}}={}\\ \\mathrm{{\\AA}}$'.format(R),pad=-20,fontsize=15)\n",
    "\n",
    "    #cBlue = colortools.get_linear_colors('Blues_r',len(V_NeArr)+5,reverse=False)\n",
    "    #cRed = colortools.get_linear_colors('Reds_r',effective_potential_Ar.shape[1]+4,reverse=False)\n",
    "\n",
    "    #ax.plot(r,V_MCM41,linestyle=':',color='k')\n",
    "    #ax.plot([0], marker='None', linestyle='None', label=r'$n_\\mathrm{Ne}\\ \\mathrm{[\\AA^{-3}]}$')\n",
    "    ax.text(0.10,0.48,r'$n_\\mathrm{Ar}\\ \\mathrm{[\\AA^{-3}]}$',transform=ax.transAxes)\n",
    "    ax.annotate(r\"$a$\", xy=( 0.10,0.85), xytext=(0.05,0.9),xycoords=ax.transAxes, \n",
    "        textcoords='offset points', ha='center', va='bottom',\n",
    "        bbox=dict(boxstyle='round,pad=0.2', fc='C7', ec='C7', alpha=0.15)\n",
    "        )\n",
    "    r = effective_potential_Ar[:,0]\n",
    "    for j in range(effective_potential_Ar.shape[1] - 1):\n",
    "        V_eff = effective_potential_Ar[:,j+1]\n",
    "        ax.plot(r,V_eff,label='${:2.3f}$'.format(argonDensityArr[j]),color=plot_colors[3*j+1], lw=2)\n",
    "    l = ax.legend(frameon=False,ncol=1,loc=3)\n",
    "    #fig.savefig('plots/EP_Ar.svg',bbox_inches='tight')\n",
    "    #fig.savefig('plots/EP_Ar.png',bbox_inches='tight',dpi=400)\n",
    "    fig.savefig('plots/effectivePotential.pdf',bbox_inches='tight')"
   ]
  },
  {
   "cell_type": "code",
   "execution_count": null,
   "metadata": {},
   "outputs": [],
   "source": [
    "plt.style.reload_library()\n",
    "with plt.style.context('./include/aps.mplstyle'):\n",
    "\n",
    "    fig,axes = plt.subplots(nrows=2)\n",
    "    ax = axes[0]\n",
    "    axin1 = axes[1]\n",
    "    ax.set_ylim((-100,90))\n",
    "    ax.set_xlim((1,10.5))\n",
    "    ax.set_xlabel(r'$r$ $\\mathrm{[\\AA]}$')\n",
    "    ax.set_ylabel(r'$U(r)$ $\\mathrm{[K]}$')\n",
    "    #ax.set_title(r'$R_\\mathrm{{pore}}={}\\ \\mathrm{{\\AA}}$'.format(R),pad=-20,fontsize=15)\n",
    "\n",
    "    #cBlue = colortools.get_linear_colors('Blues_r',len(V_NeArr)+5,reverse=False)\n",
    "    #cRed = colortools.get_linear_colors('Reds_r',effective_potential_Ar.shape[1]+4,reverse=False)\n",
    "\n",
    "    #ax.plot(r,V_MCM41,linestyle=':',color='k')\n",
    "    #ax.plot([0], marker='None', linestyle='None', label=r'$n_\\mathrm{Ne}\\ \\mathrm{[\\AA^{-3}]}$')\n",
    "    ax.text(0.55,0.88,r'$n_\\mathrm{Ar}\\ \\mathrm{[\\AA^{-3}]}$',transform=ax.transAxes)\n",
    "\n",
    "    r = effective_potential_Ar[:,0]\n",
    "    for j in range(effective_potential_Ar.shape[1] - 1):\n",
    "        V_eff = effective_potential_Ar[:,j+1]\n",
    "        ax.plot(r,V_eff,label='${:2.3f}$'.format(argonDensityArr[j]),color=plot_colors[3*j+1], lw=2)\n",
    "    l = ax.legend(frameon=False,ncol=1,loc=3,bbox_to_anchor=(0.45,0.40))\n",
    "    \n",
    "    axin2 = axin1.twinx()\n",
    "    axin1.plot(different_densities,r_mins, color=plot_colors[3], lw=2)\n",
    "    axin2.plot(different_densities,V_mins, color=plot_colors[-3], lw=2)\n",
    "    axin1.set_xlabel(r'$n_\\mathrm{Ar}\\ \\mathrm{[\\AA^{-3}]}$')\n",
    "    axin1.set_ylabel(r'$r$ $\\mathrm{[\\AA]}$')\n",
    "    axin2.set_ylabel(r'$U(r)$ $\\mathrm{[K]}$')\n",
    "    axin1.annotate(\"\", xy=(0.010,9.2), xytext=(0.018, 9.2), arrowprops=dict(arrowstyle=\"->\",color=plot_colors[3]))\n",
    "    axin2.annotate(\"\", xy=(0.030,-80), xytext=(0.021, -80), arrowprops=dict(arrowstyle=\"->\",color=plot_colors[-3]))\n",
    "    axin1.scatter(argonDensityArr,argonDensityr_mins,color=plot_colors[3])\n",
    "    axin2.scatter(argonDensityArr,argonDensityV_mins,color=plot_colors[-3])\n",
    "    \n",
    "    #fig.savefig('plots/EP_Ar.svg',bbox_inches='tight')\n",
    "    #fig.savefig('plots/EP_Ar.png',bbox_inches='tight',dpi=400)\n",
    "    #fig.savefig('plots/effectivePotential.pdf',bbox_inches='tight')"
   ]
  },
  {
   "cell_type": "code",
   "execution_count": null,
   "metadata": {},
   "outputs": [],
   "source": [
    "plt.style.reload_library()\n",
    "with plt.style.context('./include/aps.mplstyle'):\n",
    "\n",
    "    fig,ax = plt.subplots()\n",
    "    ax.set_ylim((-100,10))\n",
    "    ax.set_xlim((1,10.5))\n",
    "    ax.set_xlabel(r'$r$ $\\mathrm{[\\AA]}$')\n",
    "    ax.set_ylabel(r'$U(r)$ $\\mathrm{[K]}$')\n",
    "    #ax.set_title(r'$R_\\mathrm{{pore}}={}\\ \\mathrm{{\\AA}}$'.format(R),pad=-20,fontsize=15)\n",
    "\n",
    "    #cBlue = colortools.get_linear_colors('Blues_r',len(V_NeArr)+5,reverse=False)\n",
    "    #cRed = colortools.get_linear_colors('Reds_r',effective_potential_Ar.shape[1]+4,reverse=False)\n",
    "\n",
    "    #ax.plot(r,V_MCM41,linestyle=':',color='k')\n",
    "    #ax.plot([0], marker='None', linestyle='None', label=r'$n_\\mathrm{Ne}\\ \\mathrm{[\\AA^{-3}]}$')\n",
    "    ax.text(0.55,0.88,r'$n_\\mathrm{Ar}\\ \\mathrm{[\\AA^{-3}]}$',transform=ax.transAxes)\n",
    "\n",
    "    r = effective_potential_Ar[:,0]\n",
    "    for j in range(effective_potential_Ar.shape[1] - 1):\n",
    "        V_eff = effective_potential_Ar[:,j+1]\n",
    "        ax.plot(r,V_eff,label='${:2.3f}$'.format(argonDensityArr[j]),color=plot_colors[3*j+1], lw=2)\n",
    "    l = ax.legend(frameon=False,ncol=3,loc=2)\n",
    "    axin1 = ax.inset_axes([0.1, 0.1, 0.5, 0.5])\n",
    "    axin2 = axin1.twinx()\n",
    "    axin1.plot(different_densities,r_mins, color=plot_colors[3], lw=2)\n",
    "    axin2.plot(different_densities,V_mins, color=plot_colors[-3], lw=2)\n",
    "    axin1.set_xlabel(r'$n_\\mathrm{Ar}\\ \\mathrm{[\\AA^{-3}]}$')\n",
    "    axin1.set_ylabel(r'$r$ $\\mathrm{[\\AA]}$')\n",
    "    axin2.set_ylabel(r'$U(r)$ $\\mathrm{[K]}$')\n",
    "    axin1.annotate(\"\", xy=(0.010,9.2), xytext=(0.018, 9.2), arrowprops=dict(arrowstyle=\"->\",color=plot_colors[3]))\n",
    "    axin2.annotate(\"\", xy=(0.030,-80), xytext=(0.021, -80), arrowprops=dict(arrowstyle=\"->\",color=plot_colors[-3]))\n",
    "    axin1.scatter(argonDensityArr,argonDensityr_mins,color=plot_colors[3])\n",
    "    axin2.scatter(argonDensityArr,argonDensityV_mins,color=plot_colors[-3])\n",
    "    \n",
    "    #fig.savefig('plots/EP_Ar.svg',bbox_inches='tight')\n",
    "    #fig.savefig('plots/EP_Ar.png',bbox_inches='tight',dpi=400)\n",
    "    fig.savefig('plots/effectivePotential.pdf',bbox_inches='tight')"
   ]
  },
  {
   "cell_type": "markdown",
   "metadata": {},
   "source": [
    "# Figure 2"
   ]
  },
  {
   "cell_type": "code",
   "execution_count": null,
   "metadata": {},
   "outputs": [],
   "source": [
    "density_vs_pressure_data=np.load(\"data/density_vs_pressure_T4.2.npz\")"
   ]
  },
  {
   "cell_type": "code",
   "execution_count": null,
   "metadata": {},
   "outputs": [],
   "source": [
    "helium_isotherm_pressure = density_vs_pressure_data[\"helium_isotherm_pressure\"]\n",
    "helium_isotherm_density = density_vs_pressure_data[\"helium_isotherm_density\"]\n",
    "qmc_pressure = density_vs_pressure_data[\"qmc_pressure\"]\n",
    "qmc_density = density_vs_pressure_data[\"qmc_density\"]\n",
    "qmc_density_error = density_vs_pressure_data[\"qmc_density_error\"]\n",
    "T=4.2"
   ]
  },
  {
   "cell_type": "code",
   "execution_count": null,
   "metadata": {},
   "outputs": [],
   "source": [
    "fig,ax = plt.subplots()\n",
    "ax2 = ax.twinx()\n",
    "ax.scatter(helium_isotherm_pressure,helium_isotherm_density, label=\"Helium Isotherm\",color=purple)\n",
    "ax2.errorbar(qmc_pressure,qmc_density,yerr=qmc_density_error, \n",
    "             marker='o', label=r\"QMC at $T={}\\mathrm{{K}}$ (right)\".format(T),color=blue)\n",
    "ax.legend(frameon=False)\n",
    "ax2.legend(frameon=False)\n",
    "ax.set_ylabel(r\"$\\rho$\")\n",
    "ax.set_xlabel(r\"$P/P_0$\")"
   ]
  },
  {
   "cell_type": "code",
   "execution_count": null,
   "metadata": {},
   "outputs": [],
   "source": [
    "mean_qmc_density_flat_idx = (qmc_pressure > .2) & (qmc_pressure < 1)\n",
    "mean_helium_isotherm_density_flat_idx = (helium_isotherm_pressure > .3) & (helium_isotherm_pressure < .7)\n",
    "\n",
    "mean_qmc_density_flat = np.mean(qmc_density[mean_qmc_density_flat_idx])\n",
    "mean_helium_isotherm_density_flat = np.mean(helium_isotherm_density[mean_helium_isotherm_density_flat_idx])"
   ]
  },
  {
   "cell_type": "code",
   "execution_count": null,
   "metadata": {},
   "outputs": [],
   "source": [
    "mqdf = mean_qmc_density_flat\n",
    "mhdf = mean_helium_isotherm_density_flat\n",
    "\n",
    "fig,ax = plt.subplots()\n",
    "ax.scatter(helium_isotherm_pressure,helium_isotherm_density/mhdf, label=\"Helium Isotherm\",color=purple)\n",
    "ax.errorbar(qmc_pressure,qmc_density/mqdf,yerr=qmc_density_error/mqdf, \n",
    "             marker='o', label=r\"QMC at $T={}\\mathrm{{K}}$ (right)\".format(T),color=blue)\n",
    "ax.legend(frameon=False)\n",
    "\n",
    "ax.set_ylabel(r\"$\\rho/\\tilde{\\rho}$\")\n",
    "ax.set_xlabel(r\"$P/P_0$\")"
   ]
  },
  {
   "cell_type": "code",
   "execution_count": null,
   "metadata": {},
   "outputs": [],
   "source": [
    "np.savez(\"data/chemical_potential_vs_pressure\",P_P0=x,T=T,chemical_potential_T0=μ_exp[Tkey(T[0])],chemical_potential_T1=μ_exp[Tkey(T[1])])"
   ]
  },
  {
   "cell_type": "code",
   "execution_count": null,
   "metadata": {},
   "outputs": [],
   "source": [
    "chemical_potential_vs_pressure_data = np.load(\"data/chemical_potential_vs_pressure.npz\")"
   ]
  },
  {
   "cell_type": "code",
   "execution_count": null,
   "metadata": {},
   "outputs": [],
   "source": [
    "P_P0 = chemical_potential_vs_pressure_data[\"P_P0\"]\n",
    "T_ = chemical_potential_vs_pressure_data[\"T\"]\n",
    "chemical_potential_T0 = chemical_potential_vs_pressure_data[\"chemical_potential_T0\"]\n",
    "chemical_potential_T1 = chemical_potential_vs_pressure_data[\"chemical_potential_T1\"]\n",
    "μ_exp=[chemical_potential_T0,chemical_potential_T1]"
   ]
  },
  {
   "cell_type": "code",
   "execution_count": null,
   "metadata": {},
   "outputs": [],
   "source": [
    "fig,ax = plt.subplots()\n",
    "_colors = [green,dark_blue]\n",
    "for i,cT in enumerate(T_):\n",
    "    ax.plot(P_P0,μ_exp[i], label=f'T = {cT:3.1f} K', color=_colors[i])\n",
    "\n",
    "#plt.yscale('symlog')\n",
    "ax.set_xscale('log')\n",
    "ax.set_ylabel(r'$\\mu\\; \\mathrm{[K]}$')\n",
    "ax.set_xlabel(r'$P/P_0$')\n",
    "ax.set_xlim(1E-6,1.01)\n",
    "ax.legend(frameon=False)"
   ]
  },
  {
   "cell_type": "code",
   "execution_count": null,
   "metadata": {},
   "outputs": [],
   "source": [
    "mqdf = mean_qmc_density_flat\n",
    "mhdf = mean_helium_isotherm_density_flat\n",
    "plt.style.reload_library()\n",
    "with plt.style.context('./include/aps.mplstyle'):\n",
    "    fig,ax = plt.subplots()\n",
    "    axin = ax.inset_axes([0.45, 0.15, 0.4, 0.4])\n",
    "    _colors = [green,dark_blue]\n",
    "    for i,cT in enumerate(T_):\n",
    "        axin.plot(P_P0,μ_exp[i], label=f'T = {cT:3.1f} K', color=_colors[i])\n",
    "\n",
    "    #plt.yscale('symlog')\n",
    "    axin.set_xscale('log')\n",
    "    axin.set_ylabel(r'$\\mu\\; \\mathrm{[K]}$')\n",
    "    #axin.set_xlabel(r'$P/P_0$')\n",
    "    axin.set_xlim(1E-6,1.01)\n",
    "    axin.legend(frameon=False)\n",
    "\n",
    "    ax.scatter(helium_isotherm_pressure,helium_isotherm_density/mhdf, label=\"Helium Isotherm\",color=purple)\n",
    "    ax.errorbar(qmc_pressure,qmc_density/mqdf,yerr=qmc_density_error/mqdf, \n",
    "                 marker='o', label=r\"QMC at $T={}\\mathrm{{K}}$ (right)\".format(T),color=blue)\n",
    "    ax.legend(frameon=False)\n",
    "\n",
    "    #ax.set_ylabel(r\"$\\rho/\\tilde{\\rho}$\")\n",
    "    ax.set_ylabel(r\"$\\rho/\\rho_0$\")\n",
    "    ax.set_xlabel(r\"$P/P_0$\")\n",
    "    fig.savefig('plots/filling_the_pore.pdf',bbox_inches='tight')"
   ]
  },
  {
   "cell_type": "markdown",
   "metadata": {},
   "source": [
    "# Fig 3: radial density"
   ]
  },
  {
   "cell_type": "code",
   "execution_count": null,
   "metadata": {},
   "outputs": [],
   "source": [
    "radial_density_data = np.load(\"data/radial_density_T1.6.npz\")"
   ]
  },
  {
   "cell_type": "code",
   "execution_count": null,
   "metadata": {},
   "outputs": [],
   "source": [
    "chemical_potential_radial = radial_density_data[\"chemical_potential\"]\n",
    "reduced_pressure_radial = radial_density_data[\"reduced_pressure\"]\n",
    "radial = radial_density_data[\"radial\"]\n"
   ]
  },
  {
   "cell_type": "code",
   "execution_count": null,
   "metadata": {},
   "outputs": [],
   "source": [
    "μ = chemical_potential_radial\n",
    "μmin = -50\n",
    "colors2 = colortools.get_linear_colors('viridis',len(μ[μ>μmin]),reverse=False)\n",
    "black = \"k\"\n",
    "fig,ax = plt.subplots()\n",
    "for i,u in enumerate(μ):\n",
    "    if (u > μmin):\n",
    "        x = radial[i][0,:]\n",
    "        y = radial[i][1,:]\n",
    "        yerr = radial[i][2,:]\n",
    "        ax.errorbar(x,y,yerr, marker='o', lw=0.5, ms=1, color=colors2[i], label=r'$\\mu={:f}$'.format(μ[i]))\n",
    "        #ax.errorbar(x,y,yerr, marker='o', color=colors2[i], label=r'$\\mu={:f}$'.format(μ[i]))\n",
    "        \n",
    "#ax.legend(frameon=False)\n",
    "\n",
    "ax.set_xlabel(r'Distance From Center $(\\mathrm{\\AA})$')\n",
    "ax.set_xlim(0,11);\n",
    "# ax.xaxis.set_major_locator(ticker.MultipleLocator(2.5))\n",
    "# [ax.spines[sp].set_color(black) for sp in ['bottom','top','left','right']]\n",
    "# ax.xaxis.label.set_color(black)\n",
    "# ax.tick_params(which='both', colors=black)\n",
    "\n",
    "ax.set_ylabel(r'Radial Density $(\\mathrm{\\AA}^{-3})$')\n",
    "\n",
    "# create the colorbar\n",
    "sm = plt.cm.ScalarMappable(cmap=mpl.cm.viridis_r, norm=plt.Normalize(vmin=μ[0], vmax=μmin))\n",
    "sm._A = []\n",
    "cb = plt.colorbar(sm)\n",
    "cb.set_label(r'$\\mu\\; (\\mathrm{K})$')\n",
    "\n",
    "# set colorbar tick color\n",
    "# cb.ax.yaxis.set_tick_params(color=black)\n",
    "# set colorbar edgecolor \n",
    "# cb.outline.set_edgecolor(black)\n",
    "# set colorbar ticklabels\n",
    "plt.setp(plt.getp(cb.ax.axes, 'yticklabels'))\n",
    "fig.savefig('plots/radialDensity.pdf',bbox_inches='tight')"
   ]
  },
  {
   "cell_type": "code",
   "execution_count": null,
   "metadata": {},
   "outputs": [],
   "source": [
    "ρ_min = reduced_pressure_radial[chemical_potential_radial == -50]"
   ]
  },
  {
   "cell_type": "code",
   "execution_count": null,
   "metadata": {},
   "outputs": [],
   "source": [
    "μ = chemical_potential_radial\n",
    "μmin = -50\n",
    "colors2 = colortools.get_linear_colors('viridis',len(μ[μ>μmin]),reverse=False)\n",
    "black = \"k\"\n",
    "plt.style.reload_library()\n",
    "with plt.style.context('./include/aps.mplstyle'):\n",
    "    fig,ax = plt.subplots()\n",
    "    for i,u in enumerate(μ):\n",
    "        if (u > μmin):\n",
    "            x = radial[i][0,:]\n",
    "            y = radial[i][1,:]\n",
    "            yerr = radial[i][2,:]\n",
    "            ax.errorbar(x,y,yerr, marker='o', lw=0.5, ms=1, color=colors2[i], label=r'$\\mu={:f}$'.format(μ[i]))\n",
    "            #ax.errorbar(x,y,yerr, marker='o', color=colors2[i], label=r'$\\mu={:f}$'.format(μ[i]))\n",
    "\n",
    "    #ax.legend(frameon=False)\n",
    "\n",
    "    ax.set_xlabel(r'Distance From Center $(\\mathrm{\\AA})$')\n",
    "    ax.set_xlim(0,11);\n",
    "    # ax.xaxis.set_major_locator(ticker.MultipleLocator(2.5))\n",
    "    # [ax.spines[sp].set_color(black) for sp in ['bottom','top','left','right']]\n",
    "    # ax.xaxis.label.set_color(black)\n",
    "    # ax.tick_params(which='both', colors=black)\n",
    "\n",
    "    ax.set_ylabel(r'Radial Density $(\\mathrm{\\AA}^{-3})$')\n",
    "\n",
    "    # create the colorbar\n",
    "    vmin = reduced_pressure_radial[0]\n",
    "    vmax = ρ_min\n",
    "    sm = plt.cm.ScalarMappable(cmap=mpl.cm.viridis_r, norm=mplcolors.LogNorm(vmin=vmin, vmax=vmax))\n",
    "    sm._A = []\n",
    "    cb = plt.colorbar(sm)\n",
    "    cb.set_label(r\"$P/P_0$\")\n",
    "\n",
    "    # set colorbar tick color\n",
    "    # cb.ax.yaxis.set_tick_params(color=black)\n",
    "    # set colorbar edgecolor \n",
    "    # cb.outline.set_edgecolor(black)\n",
    "    # set colorbar ticklabels\n",
    "    plt.setp(plt.getp(cb.ax.axes, 'yticklabels'))\n",
    "    fig.savefig('plots/radialDensity.pdf',bbox_inches='tight')"
   ]
  },
  {
   "cell_type": "markdown",
   "metadata": {},
   "source": [
    "# Figure 4: linear density"
   ]
  },
  {
   "cell_type": "code",
   "execution_count": null,
   "metadata": {},
   "outputs": [],
   "source": [
    "linear_density_data = np.load(\"data/linear_density.npz\")"
   ]
  },
  {
   "cell_type": "code",
   "execution_count": null,
   "metadata": {},
   "outputs": [],
   "source": [
    "chemical_potential_linear = linear_density_data[\"chemical_potential\"]\n",
    "reduced_pressure_linear = linear_density_data[\"reduced_pressure\"]\n",
    "T_linear = linear_density_data[\"T\"]\n",
    "linear_density = linear_density_data[\"linear_density\"]"
   ]
  },
  {
   "cell_type": "code",
   "execution_count": null,
   "metadata": {},
   "outputs": [],
   "source": [
    "black = \"k\"\n",
    "μmin = -50\n",
    "#fig, axes = plt.subplots(1,1,sharex=False, sharey=True, squeeze=True)\n",
    "fig, ax = plt.subplots()\n",
    "colors2 = colortools.get_linear_colors('viridis',len(μ[μ>μmin]),reverse=False)\n",
    "μ_l = chemical_potential_linear\n",
    "P_l = reduced_pressure_linear\n",
    "ρlin = linear_density\n",
    "_m = [\"o\",\"s\"]\n",
    "for i,cT in enumerate(T_linear):\n",
    "    x = μ_l[i][μ>μmin]\n",
    "    y = ρlin[i][μ>μmin]\n",
    "    for j,u in enumerate(x):\n",
    "        ax.plot(u,y[j],lw=1, marker=_m[i], mec=colors2[j], markersize=6,\n",
    "                 mfc=colortools.get_alpha_hex(colors2[j],0.7),zorder=10)\n",
    "\n",
    "        ax.plot(x[j-1:j+1],y[j-1:j+1],lw=1, marker='None', linestyle='-', color=colors2[j])\n",
    "\n",
    "\n",
    "#axes.set_xlim(-40,-5)\n",
    "\n",
    "#axes.set_xlabel(r'$P/P_0$', color=black, fontsize=20)\n",
    "\n",
    "# [ax.spines[sp].set_color(black) for sp in ['bottom','top','left','right']]\n",
    "# ax.xaxis.label.set_color(black)\n",
    "# ax.tick_params(which='both', colors=black)\n",
    "\n",
    "#axes.set_xscale('log')\n",
    "#axes.set_xlim(1E-10,1)\n",
    "#axes.set_ylim(0,0.018)\n",
    "\n",
    "ax.set_xlabel(r'$\\mu\\; (\\mathrm{K})$')\n",
    "ax.set_ylabel(r'Core Density $(\\mathrm{\\AA}^{-1})$')\n"
   ]
  },
  {
   "cell_type": "code",
   "execution_count": null,
   "metadata": {},
   "outputs": [],
   "source": [
    "black = \"k\"\n",
    "μmin = -50\n",
    "#fig, axes = plt.subplots(1,1,sharex=False, sharey=True, squeeze=True)\n",
    "plt.style.reload_library()\n",
    "with plt.style.context('./include/aps.mplstyle'):\n",
    "    fig, ax = plt.subplots()\n",
    "    colors2 = colortools.get_linear_colors('viridis',len(μ[μ>μmin]),reverse=False)\n",
    "    μ_l = chemical_potential_linear\n",
    "    P_l = reduced_pressure_linear\n",
    "    ρlin = linear_density\n",
    "    _m = [\"o\",\"s\"]\n",
    "    for i,cT in enumerate(T_linear):\n",
    "        x = P_l[i][μ>μmin]\n",
    "        y = ρlin[i][μ>μmin]\n",
    "        for j,u in enumerate(x):\n",
    "            ax.plot(u,y[j],lw=1, marker=_m[i], mec=colors2[j], markersize=6,\n",
    "                     mfc=colortools.get_alpha_hex(colors2[j],0.7),zorder=10)\n",
    "\n",
    "            ax.plot(x[j-1:j+1],y[j-1:j+1],lw=1, marker='None', linestyle='-', color=colors2[j])\n",
    "        ax.plot([None],[None],color=blue,mec=blue,mfc=colortools.get_alpha_hex(blue,0.7),label=f'T = {cT:3.1f} K',marker=_m[i])\n",
    "\n",
    "\n",
    "    #axes.set_xlim(-40,-5)\n",
    "\n",
    "    #axes.set_xlabel(r'$P/P_0$', color=black, fontsize=20)\n",
    "\n",
    "    # [ax.spines[sp].set_color(black) for sp in ['bottom','top','left','right']]\n",
    "    # ax.xaxis.label.set_color(black)\n",
    "    # ax.tick_params(which='both', colors=black)\n",
    "    ax.legend(frameon=False)\n",
    "    ax.set_xscale('log')\n",
    "    #ax.set_xlim(1E-10,1)\n",
    "    #ax.set_ylim(0,0.018)\n",
    "\n",
    "    ax.set_xlabel(r'$\\mu\\; (\\mathrm{K})$')\n",
    "    ax.set_ylabel(r'Core Density $(\\mathrm{\\AA}^{-1})$')\n",
    "    ax.set_xlabel(r\"$P/P_0$\")\n",
    "    fig.savefig('plots/linearDensity.pdf',bbox_inches='tight')"
   ]
  },
  {
   "cell_type": "markdown",
   "metadata": {},
   "source": [
    "# finite size effects"
   ]
  },
  {
   "cell_type": "code",
   "execution_count": null,
   "metadata": {},
   "outputs": [],
   "source": [
    "finite_size_effect_radial_data = np.load(\"data/finite_size_effect_radial.npz\")"
   ]
  },
  {
   "cell_type": "code",
   "execution_count": null,
   "metadata": {},
   "outputs": [],
   "source": [
    "L_fse = finite_size_effect_radial_data[\"L\"]\n",
    "distance_from_center_fse = finite_size_effect_radial_data[\"distance_from_center\"]\n",
    "radial_density_fse = finite_size_effect_radial_data[\"radial_density\"]\n",
    "radial_density_error_fse = finite_size_effect_radial_data[\"radial_density_error\"]\n"
   ]
  },
  {
   "cell_type": "code",
   "execution_count": null,
   "metadata": {},
   "outputs": [],
   "source": [
    "L_fse"
   ]
  },
  {
   "cell_type": "code",
   "execution_count": null,
   "metadata": {},
   "outputs": [],
   "source": [
    "plt.style.reload_library()\n",
    "with plt.style.context('./include/aps.mplstyle'):\n",
    "    fig,ax = plt.subplots()\n",
    "    _colors= [dark_purple,dark_blue,green,teal]\n",
    "    for i,cL in enumerate(L_fse):\n",
    "        x = distance_from_center_fse[i]\n",
    "        y = radial_density_fse[i]\n",
    "        yerr = radial_density_error_fse[i]\n",
    "        ax.errorbar(x,y,yerr,label=\"$L={}\\ \\mathrm{{\\AA}}$\".format(cL),color=_colors[i])\n",
    "    ax.legend(frameon=False,ncol = 1)\n",
    "    ax.set_xlim((0,2))\n",
    "    fig.savefig('plots/finite_size_scaling_radial_density.pdf',bbox_inches='tight')"
   ]
  },
  {
   "cell_type": "code",
   "execution_count": null,
   "metadata": {},
   "outputs": [],
   "source": []
  }
 ],
 "metadata": {
  "kernelspec": {
   "display_name": "Python 3",
   "language": "python",
   "name": "python3"
  },
  "language_info": {
   "codemirror_mode": {
    "name": "ipython",
    "version": 3
   },
   "file_extension": ".py",
   "mimetype": "text/x-python",
   "name": "python",
   "nbconvert_exporter": "python",
   "pygments_lexer": "ipython3",
   "version": "3.6.8"
  }
 },
 "nbformat": 4,
 "nbformat_minor": 4
}
